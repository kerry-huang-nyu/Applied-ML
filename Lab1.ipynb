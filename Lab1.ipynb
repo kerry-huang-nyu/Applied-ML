{
 "cells": [
  {
   "cell_type": "code",
   "execution_count": 244,
   "id": "7419bf1b-9469-411b-9db0-930f1f843f42",
   "metadata": {},
   "outputs": [],
   "source": [
    "from sklearn.datasets import load_boston\n",
    "import numpy as np\n",
    "import matplotlib.pyplot as plt\n",
    "import warnings\n",
    "from sklearn.model_selection import KFold\n",
    "from sklearn.preprocessing import PolynomialFeatures\n",
    "\n",
    "#from sklearn.model_selection import train_test_split #train test split \n",
    "####### We actually don't need to test split since thats k cross fold thing is done to test \n",
    "#from sklearn.model_selection import StratifiedKFold, cross_val_score"
   ]
  },
  {
   "cell_type": "markdown",
   "id": "cad58598",
   "metadata": {},
   "source": [
    "# DO NOT GRADE THSI HOMEWORK! i AM AUDITING THIS COURSE AND THIS SUBMISSION IS ONLY UPLOADED OUT OF A WEIRD DESIRE FOR COMPLETION.\n"
   ]
  },
  {
   "cell_type": "markdown",
   "id": "24539bf0",
   "metadata": {},
   "source": [
    "# Closed Form Solution"
   ]
  },
  {
   "cell_type": "markdown",
   "id": "77bab536",
   "metadata": {},
   "source": [
    "### Importing Dataset"
   ]
  },
  {
   "cell_type": "code",
   "execution_count": 245,
   "id": "9d0d8267",
   "metadata": {},
   "outputs": [
    {
     "name": "stdout",
     "output_type": "stream",
     "text": [
      "(506, 14) (506, 1)\n"
     ]
    }
   ],
   "source": [
    "\n",
    "## Avoid printing out warnings\n",
    "with warnings.catch_warnings():\n",
    "     warnings.filterwarnings(\"ignore\")\n",
    "     X, y = load_boston(return_X_y=True)\n",
    "\n",
    "\n",
    "#X_train, X_test, y_train, y_test = train_test_split(X,y,test_size=0.2, random_state=1234)\n",
    "#split into training size of 0.8 of the whole, testing size of 0.2 of the whole \n",
    "X_original = X\n",
    "X = np.append(np.ones([len(X), 1]), X, 1)\n",
    "y = np.reshape(y, (len(y), 1))\n",
    "\n",
    "#means that we have 506 entries, 13 attributes for each entry 1 attribute of 1 for b \n",
    "print(X.shape, y.shape)\n",
    "\n",
    "attribute = X.shape[1] #find the number of columns in X with all the w and 1 b \n",
    "#w_train = np.random.rand(attribute,1)\n",
    "\n",
    "#w_train has 14 attributes of random values \n",
    "#print(w_train.shape) \n",
    "\n",
    "#look at 237 page for gradient descent + do that for the dimensions "
   ]
  },
  {
   "cell_type": "code",
   "execution_count": 246,
   "id": "b5665eed",
   "metadata": {},
   "outputs": [
    {
     "data": {
      "text/plain": [
       "'\\n#Some sanity checks for validating the test code \\nneww = normal_equation_solution(X, y)\\n\\nprint(w_train.shape, neww.shape)\\n\\nloss_old = normal_equation_loss(X, y, w_train)\\nloss_new = normal_equation_loss(X, y, neww)\\nprint(w_train, \"and this is the old loss\", loss_old)\\nprint(neww, \"and this is the new loss\", loss_new)\\n\\ny_hat = normal_equation_predict(X,w_train)\\nprint(y_hat.shape)\\n'"
      ]
     },
     "execution_count": 246,
     "metadata": {},
     "output_type": "execute_result"
    }
   ],
   "source": [
    "#Normal Equation Solution \n",
    "def normal_equation_solution(X, y, lamb = 0): #accepts 2 parameters, the X and the y. \n",
    "    #lambda is there to support compatibility with some functions not for use \n",
    "    T = X.transpose()\n",
    "    #one = (T@X)**(-1) #this is not the right way to find the inverse!\n",
    "    #two = np.linalg.inv(T@X)\n",
    "    #print(one[0])\n",
    "    #print(two[0])\n",
    "    \n",
    "    w_train_new = np.linalg.inv(T@X)@T@y \n",
    "    return np.reshape(w_train_new, (len(w_train_new), 1))\n",
    "    \n",
    "def normal_equation_error(X, y, w):\n",
    "    return y - X @ w \n",
    "\n",
    "def normal_equation_predict(X, w):\n",
    "    return X @ w\n",
    "    \n",
    "def normal_equation_loss(X, y, w, lamb = 0):\n",
    "    y_T = y.transpose() \n",
    "    w_T = w.transpose()\n",
    "    X_T = X.transpose() \n",
    "    ridge = lamb * sum((w) ** 2) #this is last part is the ridge equation \n",
    "    return y_T @ y - y_T @ X @ w - w_T @ X_T @ y + w_T @ X_T @ X @ w + ridge \n",
    "    \n",
    "\n",
    "'''\n",
    "#Some sanity checks for validating the test code \n",
    "neww = normal_equation_solution(X, y)\n",
    "\n",
    "print(w_train.shape, neww.shape)\n",
    "\n",
    "loss_old = normal_equation_loss(X, y, w_train)\n",
    "loss_new = normal_equation_loss(X, y, neww)\n",
    "print(w_train, \"and this is the old loss\", loss_old)\n",
    "print(neww, \"and this is the new loss\", loss_new)\n",
    "\n",
    "y_hat = normal_equation_predict(X,w_train)\n",
    "print(y_hat.shape)\n",
    "'''"
   ]
  },
  {
   "cell_type": "markdown",
   "id": "09d83b94",
   "metadata": {},
   "source": [
    "### K-Fold Test and Validaton"
   ]
  },
  {
   "cell_type": "code",
   "execution_count": 247,
   "id": "2f2324a3",
   "metadata": {},
   "outputs": [],
   "source": [
    "def k_fold(k, solution_method, lamb = 0, verbose = False):\n",
    "    #shuffle the datasets \n",
    "    permutation = np.random.permutation(len(X))\n",
    "    X_shuffle = X[permutation]\n",
    "    y_shuffle = y[permutation] \n",
    "    ranges = [0] + [i * (len(X) // k) for i in range(1, k)] + [len(X)]\n",
    "    #[0, 101, 202, 303, 404, 506]\n",
    "    #ranges will be 1: [0, 101), 2: [101, 202)... 5: [404, 506).\n",
    "    #includes all values \n",
    "\n",
    "    test_loss = []\n",
    "    train_loss = []\n",
    "\n",
    "    for i in range(1, k + 1): \n",
    "        #split our range \n",
    "        X_test= X[ranges[i-1]:ranges[i], :]\n",
    "        X_train = np.append(X[:ranges[i-1], :], X[ranges[i]:,:], 0)\n",
    "\n",
    "        y_test= y[ranges[i-1]:ranges[i], :]\n",
    "        y_train = np.append(y[:ranges[i-1], :], y[ranges[i]:,:], 0)\n",
    "\n",
    "\n",
    "        '''\n",
    "        print(len(training) + len(test)) shows the in total their sum is always 506 \n",
    "        therefore no data point is left unaccounted for in the case where points are \n",
    "        not divided evenly\n",
    "        '''\n",
    "\n",
    "        #train the model using the training and evaluate with test \n",
    "        w_train = solution_method(X_train, y_train, lamb)\n",
    "        \n",
    "        #while training, use the lambda, while testing, do not \n",
    "        loss = normal_equation_loss(X_test, y_test, w_train, 0) \n",
    "        test_loss.append(loss)\n",
    "        loss = normal_equation_loss(X_train, y_train, w_train, 0)\n",
    "        train_loss.append(loss)\n",
    "        \n",
    "        \n",
    "    if verbose: #print the scores of the model \n",
    "        print(\"Test average loss:\", sum(test_loss)/k)\n",
    "        print(\"Train average loss:\", sum(train_loss)/k)\n",
    "        #Print the average of your recorded scores for both the test set and training set.\n",
    "\n",
    "    #error_rate = sum(total_loss) / k \n",
    "    #print(\"Average error_rate:\", error_rate)\n",
    "    return sum(test_loss) / k"
   ]
  },
  {
   "cell_type": "markdown",
   "id": "35e67dd9",
   "metadata": {},
   "source": [
    "### Print Results"
   ]
  },
  {
   "cell_type": "code",
   "execution_count": 248,
   "id": "1f905a35",
   "metadata": {},
   "outputs": [
    {
     "name": "stdout",
     "output_type": "stream",
     "text": [
      "Test average loss: [[3747.06437356]]\n",
      "Train average loss: [[8391.1302353]]\n"
     ]
    },
    {
     "data": {
      "text/plain": [
       "array([[3747.06437356]])"
      ]
     },
     "execution_count": 248,
     "metadata": {},
     "output_type": "execute_result"
    }
   ],
   "source": [
    "k_fold(5, normal_equation_solution, lamb = 0, verbose = True)"
   ]
  },
  {
   "cell_type": "markdown",
   "id": "99edc8f0",
   "metadata": {},
   "source": [
    "# Ridge Regression"
   ]
  },
  {
   "cell_type": "markdown",
   "id": "1fb4064e",
   "metadata": {},
   "source": [
    "### Validating RR on Different Lambda Values and Reporting the Best Lambda"
   ]
  },
  {
   "cell_type": "code",
   "execution_count": 249,
   "id": "8876c1d0",
   "metadata": {},
   "outputs": [
    {
     "name": "stdout",
     "output_type": "stream",
     "text": [
      "Using lambda as 10.0\n",
      "Test average loss: [[3285.23535133]]\n",
      "Train average loss: [[9383.48398322]]\n"
     ]
    },
    {
     "data": {
      "image/png": "[encoded data removed]",
      "text/plain": [
       "<Figure size 640x480 with 1 Axes>"
      ]
     },
     "metadata": {},
     "output_type": "display_data"
    }
   ],
   "source": [
    "lambda_val = np.logspace(1, 7, num=13)\n",
    "#print(lambda_val)\n",
    "loss_result = []\n",
    "\n",
    "def normal_ridge_solution(X, y, lamb): #given the ridge \n",
    "    T = X.transpose()\n",
    "    inv = np.linalg.inv(X@T+lamb*np.identity(len(X)))\n",
    "    w = T@(inv)@y\n",
    "    return w \n",
    "\n",
    "def validate_lambda():\n",
    "    for lamb in lambda_val:\n",
    "        loss = k_fold(5, normal_ridge_solution, lamb)\n",
    "        loss_result.append(loss)\n",
    "\n",
    "    plt.scatter([i for i in range(1, len(loss_result) + 1)], loss_result)\n",
    "\n",
    "    ind = loss_result.index(min(loss_result)) #find the index of the minimum loss\n",
    "    print(\"Using lambda as\", lambda_val[ind])\n",
    "    k_fold(5, normal_ridge_solution, lambda_val[ind], verbose=True)\n",
    "validate_lambda()"
   ]
  },
  {
   "cell_type": "markdown",
   "id": "9126f7c1",
   "metadata": {},
   "source": [
    "### Polynomial Transformation and Repeating Ridge Regression "
   ]
  },
  {
   "cell_type": "code",
   "execution_count": 250,
   "id": "378530e8",
   "metadata": {},
   "outputs": [
    {
     "name": "stdout",
     "output_type": "stream",
     "text": [
      "Using lambda as 1000000.0\n",
      "Test average loss: [[3690.58044375]]\n",
      "Train average loss: [[5313.58243665]]\n"
     ]
    },
    {
     "data": {
      "image/png": "[encoded data removed]",
      "text/plain": [
       "<Figure size 640x480 with 1 Axes>"
      ]
     },
     "metadata": {},
     "output_type": "display_data"
    }
   ],
   "source": [
    "poly = PolynomialFeatures(degree=2)\n",
    "X_poly = poly.fit_transform(X)\n",
    "\n",
    "lambda_val = np.logspace(1, 7, num=13)\n",
    "#print(lambda_val)\n",
    "loss_result = []\n",
    "\n",
    "temp = X #remember X but set X to X_poly temporarily such that other functions are not impacted \n",
    "X = X_poly\n",
    "    \n",
    "validate_lambda()\n",
    "\n",
    "X = temp"
   ]
  },
  {
   "cell_type": "markdown",
   "id": "8096d894",
   "metadata": {},
   "source": [
    "# Gradient Descent"
   ]
  },
  {
   "cell_type": "code",
   "execution_count": 255,
   "id": "b4ae9660",
   "metadata": {
    "scrolled": true
   },
   "outputs": [],
   "source": [
    "def MSE_grad(X, y, w):\n",
    "    X_T = X.transpose()\n",
    "    m = len(X)\n",
    "    w_T = w.transpose()\n",
    "    #grad = [2/len(X) * sum([((w_T@X[i]) - y[i]) * X[i,j] for i in range(len(X))]) for j in range(len(X[0]))]\n",
    "    grad = \n",
    "    #print(pred)\n",
    "    return np.array(grad)\n",
    "#gradient(X,y,np.random.rand(attribute,1))"
   ]
  },
  {
   "cell_type": "markdown",
   "id": "9d5dffff",
   "metadata": {},
   "source": [
    "### Linear Regression using Gradient Descent"
   ]
  },
  {
   "cell_type": "code",
   "execution_count": 252,
   "id": "0035340f",
   "metadata": {},
   "outputs": [
    {
     "name": "stdout",
     "output_type": "stream",
     "text": [
      "Final weights: [[ 0.86865779]\n",
      " [ 0.29970395]\n",
      " [ 0.90447818]\n",
      " [ 0.69827873]\n",
      " [ 0.12886465]\n",
      " [ 0.21422664]\n",
      " [ 0.9043947 ]\n",
      " [ 0.33856446]\n",
      " [ 0.31588943]\n",
      " [ 0.83110699]\n",
      " [ 0.17001483]\n",
      " [ 0.67688994]\n",
      " [-0.16872579]\n",
      " [ 0.53847826]]\n"
     ]
    },
    {
     "data": {
      "image/png": "[encoded data removed]",
      "text/plain": [
       "<Figure size 640x480 with 1 Axes>"
      ]
     },
     "metadata": {},
     "output_type": "display_data"
    }
   ],
   "source": [
    "def gradient_descent(epochs, learning_rate, gradient_func, cost_func, param=None, verbose = False):\n",
    "    w_train = np.random.rand(attribute,1)\n",
    "\n",
    "    #gradient(X, y, w_train)\n",
    "\n",
    "    loss_history = [normal_equation_loss(X, y, w_train)]\n",
    "\n",
    "    for epoch in range(epochs): #training loop \n",
    "\n",
    "        derive = gradient_func(X,y,w_train, param) if param else gradient_func(X,y,w_train)\n",
    "\n",
    "        #update the matrix for the answer with the right loss function\n",
    "        w_new = w_train - learning_rate * derive\n",
    "        w_train = w_new \n",
    "\n",
    "        loss = cost_func(X, y, w_train, param) if param else cost_func(X, y, w_train)\n",
    "        loss_history.append(loss)\n",
    "\n",
    "    plt.scatter([i for i in range(1, len(loss_history) + 1)],loss_history)\n",
    "    #print(loss_history)\n",
    "    if verbose:\n",
    "        print(\"Final weights:\", w_train)\n",
    "        \n",
    "gradient_descent(25, 0.0000001, MSE_grad, normal_equation_loss, verbose = True)"
   ]
  },
  {
   "cell_type": "markdown",
   "id": "1feea789",
   "metadata": {},
   "source": [
    "### Lasso Regression using Gradient Descent"
   ]
  },
  {
   "cell_type": "code",
   "execution_count": 253,
   "id": "2115f6e9",
   "metadata": {},
   "outputs": [
    {
     "name": "stdout",
     "output_type": "stream",
     "text": [
      "Final weights: [[ 1.09381705e-01]\n",
      " [ 4.84179382e-01]\n",
      " [ 5.66628080e-04]\n",
      " [-9.14374799e-03]\n",
      " [ 7.23128601e-01]\n",
      " [ 4.72323588e-02]\n",
      " [-4.19380905e-03]\n",
      " [ 3.56295199e-01]\n",
      " [ 5.46242856e-01]\n",
      " [ 3.69443645e-01]\n",
      " [-9.29914167e-03]\n",
      " [ 5.81778049e-02]\n",
      " [ 1.03243277e-01]\n",
      " [ 6.80883510e-01]]\n"
     ]
    },
    {
     "data": {
      "image/png": "[encoded data removed]",
      "text/plain": [
       "<Figure size 640x480 with 1 Axes>"
      ]
     },
     "metadata": {},
     "output_type": "display_data"
    }
   ],
   "source": [
    "def lasso_cost(X,y,w,param=(0,)):\n",
    "    a = param[0]\n",
    "    return normal_equation_loss(X, y, w) + a * sum(abs(val) for val in w)\n",
    "    \n",
    "def lasso_grad(X,y,w,param=(0,)):\n",
    "    a = param[0]\n",
    "    grad = np.zeros([len(w),1])\n",
    "    for j in range(len(w)):\n",
    "        if w[j] < 0:\n",
    "            grad[j] = -1\n",
    "        elif w[j] > 0:\n",
    "            grad[j] = 1 \n",
    "    return MSE_grad(X,y,w) + a * grad\n",
    "    \n",
    "#lasso_grad(X,y,np.random.rand(attribute,1))\n",
    "gradient_descent(25, 0.0000001, lasso_grad, lasso_cost, param=(100000,), verbose = True)"
   ]
  },
  {
   "cell_type": "markdown",
   "id": "45d92046",
   "metadata": {},
   "source": [
    "### Elastic Net using Gradient Descent"
   ]
  },
  {
   "cell_type": "code",
   "execution_count": 254,
   "id": "c8250d86",
   "metadata": {},
   "outputs": [
    {
     "name": "stdout",
     "output_type": "stream",
     "text": [
      "Final weights: [[ 0.47520003]\n",
      " [ 0.37439345]\n",
      " [ 0.51470562]\n",
      " [ 0.41226832]\n",
      " [ 0.39281599]\n",
      " [ 0.04418648]\n",
      " [ 0.36945896]\n",
      " [ 0.20247664]\n",
      " [ 0.76533082]\n",
      " [-0.00205952]\n",
      " [ 0.05834985]\n",
      " [ 0.00296931]\n",
      " [ 0.0024149 ]\n",
      " [ 0.73632067]]\n"
     ]
    },
    {
     "data": {
      "image/png": "[encoded data removed]",
      "text/plain": [
       "<Figure size 640x480 with 1 Axes>"
      ]
     },
     "metadata": {},
     "output_type": "display_data"
    }
   ],
   "source": [
    "def elastic_cost(X,y,w,param=(0,0)):\n",
    "    a,r=param\n",
    "    normal = normal_equation_loss(X,y,w)\n",
    "    lasso = r*a*sum(abs(val) for val in w)\n",
    "    ridge = a*(1-r)/2 * sum(val**2 for val in w)\n",
    "    return normal + lasso + ridge \n",
    "\n",
    "def elastic_gradient(X,y,w,param=(0,0)):\n",
    "    a,r=param\n",
    "    lasso = np.zeros([len(w),1])\n",
    "    for j in range(len(w)):\n",
    "        if w[j] < 0:\n",
    "            lasso[j] = -1\n",
    "        elif w[j] > 0:\n",
    "            lasso[j] = 1 \n",
    "            \n",
    "    ridge = 2 * w\n",
    "            \n",
    "    return MSE_grad(X,y,w) + r*a * lasso + (1-r) / 2 * ridge #multiplied by 2w \n",
    "    \n",
    "gradient_descent(25, 0.0000001, elastic_gradient, elastic_cost, param=(100000,0.8), verbose = True)"
   ]
  },
  {
   "cell_type": "markdown",
   "id": "1b6bede4",
   "metadata": {},
   "source": [
    "### Answer to the Theoretical Question #10 \n",
    "\n",
    "I would choose to use elastic net. The reason for that is I can combine the best features of lasso regression with ridge regression to create a function that can better minimize usless values. In particular, I would use it in conjunction with polynomial transformation so that I can determine which values are actually important for the housing market. \n",
    "\n",
    "#### The parameters I would use would be:\n",
    "- r = 0.8 to put more emphasis on lasso regression \n",
    "- a = 10000 to put a lot of penalty to prevent overfitting \n",
    "- learning rate = 0.0000001 larger rate causes the function to jump from positive to negative \n",
    "- epochs = 100 to start but we can increase if the function is still improving"
   ]
  }
 ],
 "metadata": {
  "kernelspec": {
   "display_name": "Python 3 (ipykernel)",
   "language": "python",
   "name": "python3"
  },
  "language_info": {
   "codemirror_mode": {
    "name": "ipython",
    "version": 3
   },
   "file_extension": ".py",
   "mimetype": "text/x-python",
   "name": "python",
   "nbconvert_exporter": "python",
   "pygments_lexer": "ipython3",
   "version": "3.9.13"
  }
 },
 "nbformat": 4,
 "nbformat_minor": 5
}
